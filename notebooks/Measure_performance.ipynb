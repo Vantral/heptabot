{
 "cells": [
  {
   "cell_type": "markdown",
   "metadata": {},
   "source": [
    "# heptabot inference time and RAM usage\n",
    "\n",
    "In this notebook we will show the running specifications of heptabot. This was tested on a [vast.ai](https://vast.ai/console/create/) instance created using `tensorflow/tensorflow:2.3.0-gpu-jupyter` image and our [Install](https://github.com/lcl-hse/heptabot/blob/master/notebooks/Install.ipynb) script. As *heptabot* is currently hosted on a NVidia GeForce GTX 1080 Ti graphics card with 32 GB total system RAM, the results will be shown for the same system."
   ]
  },
  {
   "cell_type": "markdown",
   "metadata": {},
   "source": [
    "First, we check Python version and enter our working directory. Keep in mind that the code is executed within `heptabot` virtual environment."
   ]
  },
  {
   "cell_type": "code",
   "execution_count": 1,
   "metadata": {},
   "outputs": [
    {
     "name": "stdout",
     "output_type": "stream",
     "text": [
      "Python 3.6.9\r\n"
     ]
    }
   ],
   "source": [
    "!python --version"
   ]
  },
  {
   "cell_type": "code",
   "execution_count": 2,
   "metadata": {
    "colab": {
     "base_uri": "https://localhost:8080/",
     "height": 136
    },
    "id": "FK6Icdp9uEBQ",
    "outputId": "1f3e267a-e044-4114-fa16-318fa7067bb5"
   },
   "outputs": [
    {
     "name": "stdout",
     "output_type": "stream",
     "text": [
      "/tf/heptabot\n"
     ]
    }
   ],
   "source": [
    "%cd heptabot"
   ]
  },
  {
   "cell_type": "markdown",
   "metadata": {},
   "source": [
    "Let's get the current load on the GPU:"
   ]
  },
  {
   "cell_type": "code",
   "execution_count": 3,
   "metadata": {},
   "outputs": [
    {
     "name": "stdout",
     "output_type": "stream",
     "text": [
      "Wed Oct  7 17:03:16 2020       \n",
      "+-----------------------------------------------------------------------------+\n",
      "| NVIDIA-SMI 455.23.05    Driver Version: 455.23.05    CUDA Version: 11.1     |\n",
      "|-------------------------------+----------------------+----------------------+\n",
      "| GPU  Name        Persistence-M| Bus-Id        Disp.A | Volatile Uncorr. ECC |\n",
      "| Fan  Temp  Perf  Pwr:Usage/Cap|         Memory-Usage | GPU-Util  Compute M. |\n",
      "|                               |                      |               MIG M. |\n",
      "|===============================+======================+======================|\n",
      "|   0  GeForce GTX 108...  On   | 00000000:04:00.0 Off |                  N/A |\n",
      "| 21%   38C    P8    10W / 300W |      2MiB / 11178MiB |      0%      Default |\n",
      "|                               |                      |                  N/A |\n",
      "+-------------------------------+----------------------+----------------------+\n",
      "                                                                               \n",
      "+-----------------------------------------------------------------------------+\n",
      "| Processes:                                                                  |\n",
      "|  GPU   GI   CI        PID   Type   Process name                  GPU Memory |\n",
      "|        ID   ID                                                   Usage      |\n",
      "|=============================================================================|\n",
      "+-----------------------------------------------------------------------------+\n"
     ]
    }
   ],
   "source": [
    "!nvidia-smi"
   ]
  },
  {
   "cell_type": "markdown",
   "metadata": {},
   "source": [
    "Next, the total amount of used RAM:"
   ]
  },
  {
   "cell_type": "code",
   "execution_count": 4,
   "metadata": {},
   "outputs": [
    {
     "name": "stdout",
     "output_type": "stream",
     "text": [
      "              total        used        free      shared  buff/cache   available\r\n",
      "Mem:            31G         13G        7.9G         57M         10G         17G\r\n",
      "Swap:           14G        1.8G         13G\r\n"
     ]
    }
   ],
   "source": [
    "!free -h"
   ]
  },
  {
   "cell_type": "markdown",
   "metadata": {},
   "source": [
    "And the current CPU tasks:"
   ]
  },
  {
   "cell_type": "code",
   "execution_count": 5,
   "metadata": {},
   "outputs": [
    {
     "name": "stdout",
     "output_type": "stream",
     "text": [
      "\u001b[?1h\u001b=\u001b[H\u001b[2J\u001b[mtop - 17:03:22 up 4 days,  1:47,  0 users,  load average: 15.35, 12.93, 12.33\u001b[m\u001b[m\u001b[m\u001b[m\u001b[K\n",
      "Threads:\u001b[m\u001b[m\u001b[1m  30 \u001b[m\u001b[mtotal,\u001b[m\u001b[m\u001b[1m   1 \u001b[m\u001b[mrunning,\u001b[m\u001b[m\u001b[1m  29 \u001b[m\u001b[msleeping,\u001b[m\u001b[m\u001b[1m   0 \u001b[m\u001b[mstopped,\u001b[m\u001b[m\u001b[1m   0 \u001b[m\u001b[mzombie\u001b[m\u001b[m\u001b[m\u001b[m\u001b[K\n",
      "%Cpu(s):\u001b[m\u001b[m\u001b[1m 17.5 \u001b[m\u001b[mus,\u001b[m\u001b[m\u001b[1m 13.7 \u001b[m\u001b[msy,\u001b[m\u001b[m\u001b[1m  1.0 \u001b[m\u001b[mni,\u001b[m\u001b[m\u001b[1m 67.4 \u001b[m\u001b[mid,\u001b[m\u001b[m\u001b[1m  0.3 \u001b[m\u001b[mwa,\u001b[m\u001b[m\u001b[1m  0.0 \u001b[m\u001b[mhi,\u001b[m\u001b[m\u001b[1m  0.0 \u001b[m\u001b[msi,\u001b[m\u001b[m\u001b[1m  0.0 \u001b[m\u001b[mst\u001b[m\u001b[m\u001b[m\u001b[m\u001b[K\n",
      "KiB Mem :\u001b[m\u001b[m\u001b[1m 32899856 \u001b[m\u001b[mtotal,\u001b[m\u001b[m\u001b[1m  8255364 \u001b[m\u001b[mfree,\u001b[m\u001b[m\u001b[1m 14028320 \u001b[m\u001b[mused,\u001b[m\u001b[m\u001b[1m 10616172 \u001b[m\u001b[mbuff/cache\u001b[m\u001b[m\u001b[m\u001b[m\u001b[K\n",
      "KiB Swap:\u001b[m\u001b[m\u001b[1m 15624188 \u001b[m\u001b[mtotal,\u001b[m\u001b[m\u001b[1m 13715856 \u001b[m\u001b[mfree,\u001b[m\u001b[m\u001b[1m  1908332 \u001b[m\u001b[mused.\u001b[m\u001b[m\u001b[1m 18368528 \u001b[m\u001b[mavail Mem \u001b[m\u001b[m\u001b[m\u001b[m\u001b[K\n",
      "\u001b[K\n",
      "\u001b[7m  PID USER      PR  NI    VIRT    RES    SHR S %CPU %MEM     TIME+ COMMAND      \u001b[m\u001b[m\u001b[K\n",
      "\u001b[m   27 root      20   0  364836  76272  17340 S  6.7  0.2   0:11.32 jupyter-not+ \u001b[m\u001b[m\u001b[K\n",
      "\u001b[m 3494 root      20   0  537864  51640  14640 S  6.7  0.2   0:01.14 python       \u001b[m\u001b[m\u001b[K\n",
      "\u001b[m    1 root      20   0   20124   3404   3136 S  0.0  0.0   0:00.06 bash         \u001b[m\u001b[m\u001b[K\n",
      "\u001b[m    6 root      20   0   20124   3556   3244 S  0.0  0.0   0:00.00 bash         \u001b[m\u001b[m\u001b[K\n",
      "\u001b[m   73 root      20   0  364836  76272  17340 S  0.0  0.2   0:00.00 jupyter-not+ \u001b[m\u001b[m\u001b[K\n",
      "\u001b[m   74 root      20   0  364836  76272  17340 S  0.0  0.2   0:00.19 jupyter-not+ \u001b[m\u001b[m\u001b[K\n",
      "\u001b[m   28 root      20   0   72300   3140   2392 S  0.0  0.0   0:00.00 sshd         \u001b[m\u001b[m\u001b[K\n",
      "\u001b[m   33 root      20   0   48064   6716   5340 S  0.0  0.0   0:00.82 ssh          \u001b[m\u001b[m\u001b[K\n",
      "\u001b[m  439 root      20   0   20392   3860   3328 S  0.0  0.0   0:01.03 bash         \u001b[m\u001b[m\u001b[K\n",
      "\u001b[m  464 root      20   0  638716  49964  12888 S  0.0  0.2   0:02.39 python       \u001b[m\u001b[m\u001b[K\n",
      "\u001b[m  471 root      20   0  638716  49964  12888 S  0.0  0.2   0:00.00 python       \u001b[m\u001b[m\u001b[K\n",
      "\u001b[m  472 root      20   0  638716  49964  12888 S  0.0  0.2   0:00.05 python       \u001b[m\u001b[m\u001b[K\n",
      "\u001b[m  473 root      20   0  638716  49964  12888 S  0.0  0.2   0:00.17 python       \u001b[m\u001b[m\u001b[K\n",
      "\u001b[m  474 root      20   0  638716  49964  12888 S  0.0  0.2   0:00.00 python       \u001b[m\u001b[m\u001b[K\n",
      "\u001b[m  475 root      20   0  638716  49964  12888 S  0.0  0.2   0:00.00 python       \u001b[m\u001b[m\u001b[K\n",
      "\u001b[m  476 root      20   0  638716  49964  12888 S  0.0  0.2   0:00.00 python       \u001b[m\u001b[m\u001b[K\n",
      "\u001b[m  499 root      20   0  638716  49964  12888 S  0.0  0.2   0:00.07 python       \u001b[m\u001b[m\u001b[K\u001b[?1l\u001b>\u001b[25;1H\n",
      "\u001b[K"
     ]
    }
   ],
   "source": [
    "!top -H -n 1"
   ]
  },
  {
   "cell_type": "markdown",
   "metadata": {},
   "source": [
    "There is a way to place the models into CPU RAM: to do this, execute the code in the following cell. We, hovewer, want to test the model on GPU, so we will comment this code."
   ]
  },
  {
   "cell_type": "code",
   "execution_count": null,
   "metadata": {},
   "outputs": [],
   "source": [
    "# import os\n",
    "\n",
    "# os.environ[\"MODEL_PLACE\"] = \"cpu\"\n",
    "# os.environ['CUDA_VISIBLE_DEVICES'] = '-1'"
   ]
  },
  {
   "cell_type": "markdown",
   "metadata": {},
   "source": [
    "Now we import our functions. This cell will also download the missing `sentence_transformers` model in case it had not been done earlier."
   ]
  },
  {
   "cell_type": "code",
   "execution_count": 6,
   "metadata": {
    "colab": {
     "base_uri": "https://localhost:8080/",
     "height": 173
    },
    "id": "i-65jplkvGVb",
    "outputId": "54ad523b-0f24-48c9-81a3-5dd9d0cf2be8"
   },
   "outputs": [
    {
     "name": "stdout",
     "output_type": "stream",
     "text": [
      "\n"
     ]
    },
    {
     "name": "stderr",
     "output_type": "stream",
     "text": [
      "100%|██████████| 245M/245M [01:09<00:00, 3.54MB/s] \n"
     ]
    },
    {
     "name": "stdout",
     "output_type": "stream",
     "text": [
      "WARNING:tensorflow:From /tf/heptabot/models.py:50: load (from tensorflow.python.saved_model.loader_impl) is deprecated and will be removed in a future version.\n",
      "Instructions for updating:\n",
      "This function will only be available through the v1 compatibility library as tf.compat.v1.saved_model.loader.load or tf.compat.v1.saved_model.load. There will be a new function for importing SavedModels in Tensorflow 2.0.\n"
     ]
    },
    {
     "name": "stderr",
     "output_type": "stream",
     "text": [
      "WARNING:tensorflow:From /tf/heptabot/models.py:50: load (from tensorflow.python.saved_model.loader_impl) is deprecated and will be removed in a future version.\n",
      "Instructions for updating:\n",
      "This function will only be available through the v1 compatibility library as tf.compat.v1.saved_model.loader.load or tf.compat.v1.saved_model.load. There will be a new function for importing SavedModels in Tensorflow 2.0.\n"
     ]
    },
    {
     "name": "stdout",
     "output_type": "stream",
     "text": [
      "INFO:tensorflow:Restoring parameters from models/savemodel/variables/variables\n"
     ]
    },
    {
     "name": "stderr",
     "output_type": "stream",
     "text": [
      "INFO:tensorflow:Restoring parameters from models/savemodel/variables/variables\n"
     ]
    },
    {
     "name": "stdout",
     "output_type": "stream",
     "text": [
      "CPU times: user 57.9 s, sys: 15.7 s, total: 1min 13s\n",
      "Wall time: 1min 58s\n"
     ]
    }
   ],
   "source": [
    "%%time\n",
    "\n",
    "from models import batchify, process_batch, result_to_div"
   ]
  },
  {
   "cell_type": "markdown",
   "metadata": {},
   "source": [
    "Note that the models are placed on GPU now:"
   ]
  },
  {
   "cell_type": "code",
   "execution_count": 7,
   "metadata": {},
   "outputs": [
    {
     "name": "stdout",
     "output_type": "stream",
     "text": [
      "Wed Oct  7 17:05:29 2020       \n",
      "+-----------------------------------------------------------------------------+\n",
      "| NVIDIA-SMI 455.23.05    Driver Version: 455.23.05    CUDA Version: 11.1     |\n",
      "|-------------------------------+----------------------+----------------------+\n",
      "| GPU  Name        Persistence-M| Bus-Id        Disp.A | Volatile Uncorr. ECC |\n",
      "| Fan  Temp  Perf  Pwr:Usage/Cap|         Memory-Usage | GPU-Util  Compute M. |\n",
      "|                               |                      |               MIG M. |\n",
      "|===============================+======================+======================|\n",
      "|   0  GeForce GTX 108...  On   | 00000000:04:00.0 Off |                  N/A |\n",
      "| 21%   42C    P2    59W / 300W |  10657MiB / 11178MiB |      0%      Default |\n",
      "|                               |                      |                  N/A |\n",
      "+-------------------------------+----------------------+----------------------+\n",
      "                                                                               \n",
      "+-----------------------------------------------------------------------------+\n",
      "| Processes:                                                                  |\n",
      "|  GPU   GI   CI        PID   Type   Process name                  GPU Memory |\n",
      "|        ID   ID                                                   Usage      |\n",
      "|=============================================================================|\n",
      "+-----------------------------------------------------------------------------+\n"
     ]
    }
   ],
   "source": [
    "!nvidia-smi"
   ]
  },
  {
   "cell_type": "markdown",
   "metadata": {},
   "source": [
    "It's time to choose a text and run our code!"
   ]
  },
  {
   "cell_type": "code",
   "execution_count": 8,
   "metadata": {},
   "outputs": [],
   "source": [
    "text = \"\"\"Crime committed by the youth is an actual problem of the modern world. The facts discover that the number of these crimes is higher nowadays than ever before. I would like to look at the reasons of this terrifying trend and search some adequate solutions for this problem. \n",
    "It is clear that alcohol and drugs are the reasons of many crimes. From my point of view, advertising and many ways of distribution of both are one of the most important reasons of the crime growth. Many teens and young people addicted to alcohol and drugs become criminals. There is factual evidence that the highest percentage of imprisoners are drug dealers and drug holders. The second reason is a bad financial state of many families and young men. Such negative financial environment destructively influences development of children and teenagers. They become criminals because it is the only way for them to survive and get some money. The third reason is a luck of education. Young men with weak education cannot find a well-paid job and meet different life difficulties that can incline them to a criminal path. \n",
    "As far as I am concerned, each of the reasons is important and should be solved carefully. The best way to deal with alcohol-and-drugs problem is to control students from schools and universities and advertise a good and healthy lifestyle. There should be some control tests among student and undergraduates to indicate drug addiction. Some lessons and sport events should be organized to make active life and sport common among youngsters. The second problem of poverty can be handled through regular revision of families in terms of their financial stability. Children from poor families should be given some financial support. Government should organize different institutions to help young graduates to find a well-paid job. The final reason, lack of education, can be solved through the wide range of different scholarships that will allow young men to go to university. All schools and higher schools should be able to provide some standards of the quality of education so that their student an compete with others. \n",
    "To sum up, the problem of crime is actual among young people nowadays. This problem can be explained through 3 main reasons: alcohol and drugs, poverty lack of education. Although the problem is difficult, it can be solved through adequate means of the governors and local authorities: a health lifestyle promotion and support of educational programs. We shouldn't close our eyes and should do our best to help young people to choose the right way.\"\"\""
   ]
  },
  {
   "cell_type": "code",
   "execution_count": 9,
   "metadata": {},
   "outputs": [
    {
     "name": "stdout",
     "output_type": "stream",
     "text": [
      "<span>Crime committed by the youth is an actual problem of the modern world. The facts </span><div style=\"display: inline;\" onmouseover=\"showcomment(this, event);\" onmouseleave=\"hidecomment(this);\"><del class=\"hidden vocab\" style=\"cursor: pointer;\" onclick=\"showhide(this);\">discover</del><div class=\"vocab error-hider\" onclick=\"showhide(this);\"></div><ins class=\"vocab\" style=\"cursor: pointer;\" onclick=\"showhide(this);\">show</ins><hgroup class=\"vocab error-type\" style=\"left: 709.15px; visibility: hidden; top: 70.5px; --left-pos:NaNpx;\"><span>Vocabulary error</span></hgroup></div><span> that the number of these crimes is higher nowadays than ever before. I would like to look at the reasons </span><div style=\"display: inline;\" onmouseover=\"showcomment(this, event);\" onmouseleave=\"hidecomment(this);\"><del class=\"hidden gram\" style=\"cursor: pointer;\" onclick=\"showhide(this);\">of</del><div class=\"gram error-hider\" onclick=\"showhide(this);\"></div><ins class=\"gram\" style=\"cursor: pointer;\" onclick=\"showhide(this);\">for</ins><hgroup class=\"gram error-type\" style=\"left: 709.15px; visibility: hidden; top: 70.5px; --left-pos:NaNpx;\"><span>Word-level grammar error</span></hgroup></div><span> this terrifying trend and search </span><div style=\"display: inline;\" onmouseover=\"showcomment(this, event);\" onmouseleave=\"hidecomment(this);\"><del class=\"hidden vocab\" style=\"cursor: pointer;\" onclick=\"showhide(this);\">some</del><div class=\"vocab error-hider\" onclick=\"showhide(this);\"></div><ins class=\"vocab\" style=\"cursor: pointer;\" onclick=\"showhide(this);\">for</ins><hgroup class=\"vocab error-type\" style=\"left: 709.15px; visibility: hidden; top: 70.5px; --left-pos:NaNpx;\"><span>Vocabulary error</span></hgroup></div><span> adequate solutions </span><div style=\"display: inline;\" onmouseover=\"showcomment(this, event);\" onmouseleave=\"hidecomment(this);\"><del class=\"hidden gram\" style=\"cursor: pointer;\" onclick=\"showhide(this);\">for</del><div class=\"gram error-hider\" onclick=\"showhide(this);\"></div><ins class=\"gram\" style=\"cursor: pointer;\" onclick=\"showhide(this);\">to</ins><hgroup class=\"gram error-type\" style=\"left: 709.15px; visibility: hidden; top: 70.5px; --left-pos:NaNpx;\"><span>Word-level grammar error</span></hgroup></div><span> this problem. <br>It is clear that alcohol and drugs are the reasons </span><div style=\"display: inline;\" onmouseover=\"showcomment(this, event);\" onmouseleave=\"hidecomment(this);\"><del class=\"hidden gram\" style=\"cursor: pointer;\" onclick=\"showhide(this);\">of</del><div class=\"gram error-hider\" onclick=\"showhide(this);\"></div><ins class=\"gram\" style=\"cursor: pointer;\" onclick=\"showhide(this);\">for</ins><hgroup class=\"gram error-type\" style=\"left: 709.15px; visibility: hidden; top: 70.5px; --left-pos:NaNpx;\"><span>Word-level grammar error</span></hgroup></div><span> many crimes. From my point of view, advertising and many ways of distribution of both are one of the most important reasons </span><div style=\"display: inline;\" onmouseover=\"showcomment(this, event);\" onmouseleave=\"hidecomment(this);\"><del class=\"hidden gram\" style=\"cursor: pointer;\" onclick=\"showhide(this);\">of the</del><div class=\"gram error-hider\" onclick=\"showhide(this);\"></div><ins class=\"gram\" style=\"cursor: pointer;\" onclick=\"showhide(this);\">for</ins><hgroup class=\"gram error-type\" style=\"left: 709.15px; visibility: hidden; top: 70.5px; --left-pos:NaNpx;\"><span>Word-level grammar error</span></hgroup></div><span> crime growth. Many teens and young people addicted to alcohol and drugs become criminals. There is factual evidence that the highest percentage of imprisoners are drug dealers and drug holders. The second reason is </span><div style=\"display: inline;\" onmouseover=\"showcomment(this, event);\" onmouseleave=\"hidecomment(this);\"><del class=\"hidden gram\" style=\"cursor: pointer;\" onclick=\"showhide(this);\">a</del><div class=\"gram error-hider\" onclick=\"showhide(this);\"></div><ins class=\"gram\" style=\"cursor: pointer;\" onclick=\"showhide(this);\">the</ins><hgroup class=\"gram error-type\" style=\"left: 709.15px; visibility: hidden; top: 70.5px; --left-pos:NaNpx;\"><span>Word-level grammar error</span></hgroup></div><span> bad financial state of many families and young men. Such </span><div style=\"display: inline;\" onmouseover=\"showcomment(this, event);\" onmouseleave=\"hidecomment(this);\"><ins class=\"gram\">a </ins><hgroup class=\"gram error-type\" style=\"left: 709.15px; visibility: hidden; top: 70.5px; --left-pos:NaNpx;\"><span>Word-level grammar error</span></hgroup></div><span>negative financial environment destructively influences </span><div style=\"display: inline;\" onmouseover=\"showcomment(this, event);\" onmouseleave=\"hidecomment(this);\"><ins class=\"gram\">the </ins><hgroup class=\"gram error-type\" style=\"left: 709.15px; visibility: hidden; top: 70.5px; --left-pos:NaNpx;\"><span>Word-level grammar error</span></hgroup></div><span>development of children and teenagers. They become criminals because it is the only way for them to survive and get some money. The third reason is </span><div style=\"display: inline;\" onmouseover=\"showcomment(this, event);\" onmouseleave=\"hidecomment(this);\"><del class=\"hidden gram\" style=\"cursor: pointer;\" onclick=\"showhide(this);\">a</del><div class=\"gram error-hider\" onclick=\"showhide(this);\"></div><ins class=\"gram\" style=\"cursor: pointer;\" onclick=\"showhide(this);\">the</ins><hgroup class=\"gram error-type\" style=\"left: 709.15px; visibility: hidden; top: 70.5px; --left-pos:NaNpx;\"><span>Word-level grammar error</span></hgroup></div><span> luck of education. Young men with weak education cannot find a well-paid job and </span><div style=\"display: inline;\" onmouseover=\"showcomment(this, event);\" onmouseleave=\"hidecomment(this);\"><del class=\"hidden vocab\" style=\"cursor: pointer;\" onclick=\"showhide(this);\">meet</del><div class=\"vocab error-hider\" onclick=\"showhide(this);\"></div><ins class=\"vocab\" style=\"cursor: pointer;\" onclick=\"showhide(this);\">face</ins><hgroup class=\"vocab error-type\" style=\"left: 709.15px; visibility: hidden; top: 70.5px; --left-pos:NaNpx;\"><span>Vocabulary error</span></hgroup></div><span> different life difficulties that can incline them to a criminal path. <br>As far as I am concerned, each of the reasons is important and should be solved carefully. The best way to deal with </span><div style=\"display: inline;\" onmouseover=\"showcomment(this, event);\" onmouseleave=\"hidecomment(this);\"><ins class=\"gram\">the </ins><hgroup class=\"gram error-type\" style=\"left: 709.15px; visibility: hidden; top: 70.5px; --left-pos:NaNpx;\"><span>Word-level grammar error</span></hgroup></div><span>alcohol-and-drugs problem is to control students from schools and universities and advertise a good and healthy lifestyle. There should be some control tests among </span><div style=\"display: inline;\" onmouseover=\"showcomment(this, event);\" onmouseleave=\"hidecomment(this);\"><del class=\"hidden gram\" style=\"cursor: pointer;\" onclick=\"showhide(this);\">student</del><div class=\"gram error-hider\" onclick=\"showhide(this);\"></div><ins class=\"gram\" style=\"cursor: pointer;\" onclick=\"showhide(this);\">students</ins><hgroup class=\"gram error-type\" style=\"left: 709.15px; visibility: hidden; top: 70.5px; --left-pos:NaNpx;\"><span>Word-level grammar error</span></hgroup></div><span> and undergraduates to indicate drug addiction. Some lessons and </span><div style=\"display: inline;\" onmouseover=\"showcomment(this, event);\" onmouseleave=\"hidecomment(this);\"><del class=\"hidden gram\" style=\"cursor: pointer;\" onclick=\"showhide(this);\">sport</del><div class=\"gram error-hider\" onclick=\"showhide(this);\"></div><ins class=\"gram\" style=\"cursor: pointer;\" onclick=\"showhide(this);\">sports</ins><hgroup class=\"gram error-type\" style=\"left: 709.15px; visibility: hidden; top: 70.5px; --left-pos:NaNpx;\"><span>Word-level grammar error</span></hgroup></div><span> events should be organized to make active life and sport common among youngsters. The second problem of poverty can be handled through regular revision of families in terms of their financial stability. Children from poor families should be given some financial support. </span><div style=\"display: inline;\" onmouseover=\"showcomment(this, event);\" onmouseleave=\"hidecomment(this);\"><del class=\"hidden gram\" style=\"cursor: pointer;\" onclick=\"showhide(this);\">Government</del><div class=\"gram error-hider\" onclick=\"showhide(this);\"></div><ins class=\"gram\" style=\"cursor: pointer;\" onclick=\"showhide(this);\">The government</ins><hgroup class=\"gram error-type\" style=\"left: 709.15px; visibility: hidden; top: 70.5px; --left-pos:NaNpx;\"><span>Word-level grammar error</span></hgroup></div><span> should organize different institutions to help young graduates to find a well-paid job. The final reason, lack of education, can be solved through the wide range of different scholarships that will allow young men to go to university. All schools and higher schools should be able to provide some standards of the quality of education so that their </span><div style=\"display: inline;\" onmouseover=\"showcomment(this, event);\" onmouseleave=\"hidecomment(this);\"><del class=\"hidden disc\" style=\"cursor: pointer;\" onclick=\"showhide(this);\">student an</del><div class=\"disc error-hider\" onclick=\"showhide(this);\"></div><ins class=\"disc\" style=\"cursor: pointer;\" onclick=\"showhide(this);\">students can</ins><hgroup class=\"disc error-type\" style=\"left: 709.15px; visibility: hidden; top: 70.5px; --left-pos:NaNpx;\"><span>Discourse error</span></hgroup></div><span> compete with others. <br>To sum up, the problem of crime is actual among young people nowadays. This problem can be explained through 3 main reasons: alcohol and drugs, poverty lack of education. Although the problem is difficult, it can be solved through adequate means of the governors and local authorities: </span><div style=\"display: inline;\" onmouseover=\"showcomment(this, event);\" onmouseleave=\"hidecomment(this);\"><del class=\"hidden gram\" style=\"cursor: pointer;\" onclick=\"showhide(this);\">a </del><div class=\"gram error-hider\" onclick=\"showhide(this);\"></div><hgroup class=\"gram error-type\" style=\"left: 709.15px; visibility: hidden; top: 70.5px; --left-pos:NaNpx;\"><span>Word-level grammar error</span></hgroup></div><span>health lifestyle promotion and support of educational programs. We shouldn't close our eyes and should do our best to help young people to choose the right way.</span><div style=\"display: inline;\" onmouseover=\"showcomment(this, event);\" onmouseleave=\"hidecomment(this);\"><ins class=\"disc\">  &lt;br&gt;<br>Dear Ms.</ins><hgroup class=\"disc error-type\" style=\"left: 709.15px; visibility: hidden; top: 70.5px; --left-pos:NaNpx;\"><span>Discourse error</span></hgroup></div>\n",
      "\n",
      "\n",
      "Processed text\n",
      "CPU times: user 41.7 s, sys: 5.66 s, total: 47.4 s\n",
      "Wall time: 34.3 s\n"
     ]
    }
   ],
   "source": [
    "%%time\n",
    "\n",
    "def process_text(text, task_type=\"correction\"):\n",
    "    processed = []\n",
    "    batches, delims = batchify(text, task_type)\n",
    "\n",
    "    if len(batches) > 50:\n",
    "        raise InputOverflow(task_type)\n",
    "\n",
    "    for batch in batches:\n",
    "        processed.append(process_batch(batch))\n",
    "\n",
    "    plist = [item for subl in processed for item in subl] \n",
    "    response = result_to_div(text, plist, delims, task_type)\n",
    "    return response\n",
    "\n",
    "\n",
    "print(process_text(text))\n",
    "print(\"\\n\")\n",
    "print(\"Processed text\")"
   ]
  },
  {
   "cell_type": "markdown",
   "metadata": {},
   "source": [
    "Let's check if something has changed on the GPU:"
   ]
  },
  {
   "cell_type": "code",
   "execution_count": 11,
   "metadata": {},
   "outputs": [
    {
     "name": "stdout",
     "output_type": "stream",
     "text": [
      "Wed Oct  7 17:06:53 2020       \n",
      "+-----------------------------------------------------------------------------+\n",
      "| NVIDIA-SMI 455.23.05    Driver Version: 455.23.05    CUDA Version: 11.1     |\n",
      "|-------------------------------+----------------------+----------------------+\n",
      "| GPU  Name        Persistence-M| Bus-Id        Disp.A | Volatile Uncorr. ECC |\n",
      "| Fan  Temp  Perf  Pwr:Usage/Cap|         Memory-Usage | GPU-Util  Compute M. |\n",
      "|                               |                      |               MIG M. |\n",
      "|===============================+======================+======================|\n",
      "|   0  GeForce GTX 108...  On   | 00000000:04:00.0 Off |                  N/A |\n",
      "| 37%   58C    P2    76W / 140W |  10979MiB / 11178MiB |      0%      Default |\n",
      "|                               |                      |                  N/A |\n",
      "+-------------------------------+----------------------+----------------------+\n",
      "                                                                               \n",
      "+-----------------------------------------------------------------------------+\n",
      "| Processes:                                                                  |\n",
      "|  GPU   GI   CI        PID   Type   Process name                  GPU Memory |\n",
      "|        ID   ID                                                   Usage      |\n",
      "|=============================================================================|\n",
      "+-----------------------------------------------------------------------------+\n"
     ]
    }
   ],
   "source": [
    "!nvidia-smi"
   ]
  },
  {
   "cell_type": "markdown",
   "metadata": {},
   "source": [
    "Now, repeat the procedure. It should run a little bit faster this time:"
   ]
  },
  {
   "cell_type": "code",
   "execution_count": 10,
   "metadata": {},
   "outputs": [
    {
     "name": "stdout",
     "output_type": "stream",
     "text": [
      "<span>Crime committed by the youth is an actual problem of the modern world. The facts </span><div style=\"display: inline;\" onmouseover=\"showcomment(this, event);\" onmouseleave=\"hidecomment(this);\"><del class=\"hidden vocab\" style=\"cursor: pointer;\" onclick=\"showhide(this);\">discover</del><div class=\"vocab error-hider\" onclick=\"showhide(this);\"></div><ins class=\"vocab\" style=\"cursor: pointer;\" onclick=\"showhide(this);\">show</ins><hgroup class=\"vocab error-type\" style=\"left: 709.15px; visibility: hidden; top: 70.5px; --left-pos:NaNpx;\"><span>Vocabulary error</span></hgroup></div><span> that the number of these crimes is higher nowadays than ever before. I would like to look at the reasons </span><div style=\"display: inline;\" onmouseover=\"showcomment(this, event);\" onmouseleave=\"hidecomment(this);\"><del class=\"hidden gram\" style=\"cursor: pointer;\" onclick=\"showhide(this);\">of</del><div class=\"gram error-hider\" onclick=\"showhide(this);\"></div><ins class=\"gram\" style=\"cursor: pointer;\" onclick=\"showhide(this);\">for</ins><hgroup class=\"gram error-type\" style=\"left: 709.15px; visibility: hidden; top: 70.5px; --left-pos:NaNpx;\"><span>Word-level grammar error</span></hgroup></div><span> this terrifying trend and search </span><div style=\"display: inline;\" onmouseover=\"showcomment(this, event);\" onmouseleave=\"hidecomment(this);\"><del class=\"hidden vocab\" style=\"cursor: pointer;\" onclick=\"showhide(this);\">some</del><div class=\"vocab error-hider\" onclick=\"showhide(this);\"></div><ins class=\"vocab\" style=\"cursor: pointer;\" onclick=\"showhide(this);\">for</ins><hgroup class=\"vocab error-type\" style=\"left: 709.15px; visibility: hidden; top: 70.5px; --left-pos:NaNpx;\"><span>Vocabulary error</span></hgroup></div><span> adequate solutions </span><div style=\"display: inline;\" onmouseover=\"showcomment(this, event);\" onmouseleave=\"hidecomment(this);\"><del class=\"hidden gram\" style=\"cursor: pointer;\" onclick=\"showhide(this);\">for</del><div class=\"gram error-hider\" onclick=\"showhide(this);\"></div><ins class=\"gram\" style=\"cursor: pointer;\" onclick=\"showhide(this);\">to</ins><hgroup class=\"gram error-type\" style=\"left: 709.15px; visibility: hidden; top: 70.5px; --left-pos:NaNpx;\"><span>Word-level grammar error</span></hgroup></div><span> this problem. <br>It is clear that alcohol and drugs are the reasons </span><div style=\"display: inline;\" onmouseover=\"showcomment(this, event);\" onmouseleave=\"hidecomment(this);\"><del class=\"hidden gram\" style=\"cursor: pointer;\" onclick=\"showhide(this);\">of</del><div class=\"gram error-hider\" onclick=\"showhide(this);\"></div><ins class=\"gram\" style=\"cursor: pointer;\" onclick=\"showhide(this);\">for</ins><hgroup class=\"gram error-type\" style=\"left: 709.15px; visibility: hidden; top: 70.5px; --left-pos:NaNpx;\"><span>Word-level grammar error</span></hgroup></div><span> many crimes. From my point of view, advertising and many ways of distribution of both are one of the most important reasons </span><div style=\"display: inline;\" onmouseover=\"showcomment(this, event);\" onmouseleave=\"hidecomment(this);\"><del class=\"hidden gram\" style=\"cursor: pointer;\" onclick=\"showhide(this);\">of the</del><div class=\"gram error-hider\" onclick=\"showhide(this);\"></div><ins class=\"gram\" style=\"cursor: pointer;\" onclick=\"showhide(this);\">for</ins><hgroup class=\"gram error-type\" style=\"left: 709.15px; visibility: hidden; top: 70.5px; --left-pos:NaNpx;\"><span>Word-level grammar error</span></hgroup></div><span> crime growth. Many teens and young people addicted to alcohol and drugs become criminals. There is factual evidence that the highest percentage of imprisoners are drug dealers and drug holders. The second reason is </span><div style=\"display: inline;\" onmouseover=\"showcomment(this, event);\" onmouseleave=\"hidecomment(this);\"><del class=\"hidden gram\" style=\"cursor: pointer;\" onclick=\"showhide(this);\">a</del><div class=\"gram error-hider\" onclick=\"showhide(this);\"></div><ins class=\"gram\" style=\"cursor: pointer;\" onclick=\"showhide(this);\">the</ins><hgroup class=\"gram error-type\" style=\"left: 709.15px; visibility: hidden; top: 70.5px; --left-pos:NaNpx;\"><span>Word-level grammar error</span></hgroup></div><span> bad financial state of many families and young men. Such </span><div style=\"display: inline;\" onmouseover=\"showcomment(this, event);\" onmouseleave=\"hidecomment(this);\"><ins class=\"gram\">a </ins><hgroup class=\"gram error-type\" style=\"left: 709.15px; visibility: hidden; top: 70.5px; --left-pos:NaNpx;\"><span>Word-level grammar error</span></hgroup></div><span>negative financial environment destructively influences </span><div style=\"display: inline;\" onmouseover=\"showcomment(this, event);\" onmouseleave=\"hidecomment(this);\"><ins class=\"gram\">the </ins><hgroup class=\"gram error-type\" style=\"left: 709.15px; visibility: hidden; top: 70.5px; --left-pos:NaNpx;\"><span>Word-level grammar error</span></hgroup></div><span>development of children and teenagers. They become criminals because it is the only way for them to survive and get some money. The third reason is </span><div style=\"display: inline;\" onmouseover=\"showcomment(this, event);\" onmouseleave=\"hidecomment(this);\"><del class=\"hidden gram\" style=\"cursor: pointer;\" onclick=\"showhide(this);\">a</del><div class=\"gram error-hider\" onclick=\"showhide(this);\"></div><ins class=\"gram\" style=\"cursor: pointer;\" onclick=\"showhide(this);\">the</ins><hgroup class=\"gram error-type\" style=\"left: 709.15px; visibility: hidden; top: 70.5px; --left-pos:NaNpx;\"><span>Word-level grammar error</span></hgroup></div><span> luck of education. Young men with weak education cannot find a well-paid job and </span><div style=\"display: inline;\" onmouseover=\"showcomment(this, event);\" onmouseleave=\"hidecomment(this);\"><del class=\"hidden vocab\" style=\"cursor: pointer;\" onclick=\"showhide(this);\">meet</del><div class=\"vocab error-hider\" onclick=\"showhide(this);\"></div><ins class=\"vocab\" style=\"cursor: pointer;\" onclick=\"showhide(this);\">face</ins><hgroup class=\"vocab error-type\" style=\"left: 709.15px; visibility: hidden; top: 70.5px; --left-pos:NaNpx;\"><span>Vocabulary error</span></hgroup></div><span> different life difficulties that can incline them to a criminal path. <br>As far as I am concerned, each of the reasons is important and should be solved carefully. The best way to deal with </span><div style=\"display: inline;\" onmouseover=\"showcomment(this, event);\" onmouseleave=\"hidecomment(this);\"><ins class=\"gram\">the </ins><hgroup class=\"gram error-type\" style=\"left: 709.15px; visibility: hidden; top: 70.5px; --left-pos:NaNpx;\"><span>Word-level grammar error</span></hgroup></div><span>alcohol-and-drugs problem is to control students from schools and universities and advertise a good and healthy lifestyle. There should be some control tests among </span><div style=\"display: inline;\" onmouseover=\"showcomment(this, event);\" onmouseleave=\"hidecomment(this);\"><del class=\"hidden gram\" style=\"cursor: pointer;\" onclick=\"showhide(this);\">student</del><div class=\"gram error-hider\" onclick=\"showhide(this);\"></div><ins class=\"gram\" style=\"cursor: pointer;\" onclick=\"showhide(this);\">students</ins><hgroup class=\"gram error-type\" style=\"left: 709.15px; visibility: hidden; top: 70.5px; --left-pos:NaNpx;\"><span>Word-level grammar error</span></hgroup></div><span> and undergraduates to indicate drug addiction. Some lessons and </span><div style=\"display: inline;\" onmouseover=\"showcomment(this, event);\" onmouseleave=\"hidecomment(this);\"><del class=\"hidden gram\" style=\"cursor: pointer;\" onclick=\"showhide(this);\">sport</del><div class=\"gram error-hider\" onclick=\"showhide(this);\"></div><ins class=\"gram\" style=\"cursor: pointer;\" onclick=\"showhide(this);\">sports</ins><hgroup class=\"gram error-type\" style=\"left: 709.15px; visibility: hidden; top: 70.5px; --left-pos:NaNpx;\"><span>Word-level grammar error</span></hgroup></div><span> events should be organized to make active life and sport common among youngsters. The second problem of poverty can be handled through regular revision of families in terms of their financial stability. Children from poor families should be given some financial support. </span><div style=\"display: inline;\" onmouseover=\"showcomment(this, event);\" onmouseleave=\"hidecomment(this);\"><del class=\"hidden gram\" style=\"cursor: pointer;\" onclick=\"showhide(this);\">Government</del><div class=\"gram error-hider\" onclick=\"showhide(this);\"></div><ins class=\"gram\" style=\"cursor: pointer;\" onclick=\"showhide(this);\">The government</ins><hgroup class=\"gram error-type\" style=\"left: 709.15px; visibility: hidden; top: 70.5px; --left-pos:NaNpx;\"><span>Word-level grammar error</span></hgroup></div><span> should organize different institutions to help young graduates to find a well-paid job. The final reason, lack of education, can be solved through the wide range of different scholarships that will allow young men to go to university. All schools and higher schools should be able to provide some standards of the quality of education so that their </span><div style=\"display: inline;\" onmouseover=\"showcomment(this, event);\" onmouseleave=\"hidecomment(this);\"><del class=\"hidden disc\" style=\"cursor: pointer;\" onclick=\"showhide(this);\">student an</del><div class=\"disc error-hider\" onclick=\"showhide(this);\"></div><ins class=\"disc\" style=\"cursor: pointer;\" onclick=\"showhide(this);\">students can</ins><hgroup class=\"disc error-type\" style=\"left: 709.15px; visibility: hidden; top: 70.5px; --left-pos:NaNpx;\"><span>Discourse error</span></hgroup></div><span> compete with others. <br>To sum up, the problem of crime is actual among young people nowadays. This problem can be explained through 3 main reasons: alcohol and drugs, poverty lack of education. Although the problem is difficult, it can be solved through adequate means of the governors and local authorities: </span><div style=\"display: inline;\" onmouseover=\"showcomment(this, event);\" onmouseleave=\"hidecomment(this);\"><del class=\"hidden gram\" style=\"cursor: pointer;\" onclick=\"showhide(this);\">a </del><div class=\"gram error-hider\" onclick=\"showhide(this);\"></div><hgroup class=\"gram error-type\" style=\"left: 709.15px; visibility: hidden; top: 70.5px; --left-pos:NaNpx;\"><span>Word-level grammar error</span></hgroup></div><span>health lifestyle promotion and support of educational programs. We shouldn't close our eyes and should do our best to help young people to choose the right way.</span><div style=\"display: inline;\" onmouseover=\"showcomment(this, event);\" onmouseleave=\"hidecomment(this);\"><ins class=\"disc\">  &lt;br&gt;<br>Dear Ms.</ins><hgroup class=\"disc error-type\" style=\"left: 709.15px; visibility: hidden; top: 70.5px; --left-pos:NaNpx;\"><span>Discourse error</span></hgroup></div>\n",
      "\n",
      "\n",
      "Processed text\n",
      "CPU times: user 35.3 s, sys: 4.58 s, total: 39.9 s\n",
      "Wall time: 27.7 s\n"
     ]
    }
   ],
   "source": [
    "%%time\n",
    "\n",
    "\n",
    "print(process_text(text))\n",
    "print(\"\\n\")\n",
    "print(\"Processed text\")"
   ]
  },
  {
   "cell_type": "code",
   "execution_count": 14,
   "metadata": {},
   "outputs": [
    {
     "name": "stdout",
     "output_type": "stream",
     "text": [
      "Wed Oct  7 17:08:12 2020       \n",
      "+-----------------------------------------------------------------------------+\n",
      "| NVIDIA-SMI 455.23.05    Driver Version: 455.23.05    CUDA Version: 11.1     |\n",
      "|-------------------------------+----------------------+----------------------+\n",
      "| GPU  Name        Persistence-M| Bus-Id        Disp.A | Volatile Uncorr. ECC |\n",
      "| Fan  Temp  Perf  Pwr:Usage/Cap|         Memory-Usage | GPU-Util  Compute M. |\n",
      "|                               |                      |               MIG M. |\n",
      "|===============================+======================+======================|\n",
      "|   0  GeForce GTX 108...  On   | 00000000:04:00.0 Off |                  N/A |\n",
      "| 35%   48C    P8    11W / 145W |  10979MiB / 11178MiB |      0%      Default |\n",
      "|                               |                      |                  N/A |\n",
      "+-------------------------------+----------------------+----------------------+\n",
      "                                                                               \n",
      "+-----------------------------------------------------------------------------+\n",
      "| Processes:                                                                  |\n",
      "|  GPU   GI   CI        PID   Type   Process name                  GPU Memory |\n",
      "|        ID   ID                                                   Usage      |\n",
      "|=============================================================================|\n",
      "+-----------------------------------------------------------------------------+\n"
     ]
    }
   ],
   "source": [
    "!nvidia-smi"
   ]
  },
  {
   "cell_type": "markdown",
   "metadata": {},
   "source": [
    "Finally, let's check our RAM and running processes again:"
   ]
  },
  {
   "cell_type": "code",
   "execution_count": 12,
   "metadata": {},
   "outputs": [
    {
     "name": "stdout",
     "output_type": "stream",
     "text": [
      "              total        used        free      shared  buff/cache   available\r\n",
      "Mem:            31G         18G        2.3G         85M         10G         12G\r\n",
      "Swap:           14G        1.8G         13G\r\n"
     ]
    }
   ],
   "source": [
    "!free -h"
   ]
  },
  {
   "cell_type": "code",
   "execution_count": 13,
   "metadata": {},
   "outputs": [
    {
     "name": "stdout",
     "output_type": "stream",
     "text": [
      "\u001b[?1h\u001b=\u001b[H\u001b[2J\u001b[mtop - 17:06:56 up 4 days,  1:51,  0 users,  load average: 13.58, 13.46, 12.67\u001b[m\u001b[m\u001b[m\u001b[m\u001b[K\n",
      "Threads:\u001b[m\u001b[m\u001b[1m 191 \u001b[m\u001b[mtotal,\u001b[m\u001b[m\u001b[1m   1 \u001b[m\u001b[mrunning,\u001b[m\u001b[m\u001b[1m 190 \u001b[m\u001b[msleeping,\u001b[m\u001b[m\u001b[1m   0 \u001b[m\u001b[mstopped,\u001b[m\u001b[m\u001b[1m   0 \u001b[m\u001b[mzombie\u001b[m\u001b[m\u001b[m\u001b[m\u001b[K\n",
      "%Cpu(s):\u001b[m\u001b[m\u001b[1m 17.5 \u001b[m\u001b[mus,\u001b[m\u001b[m\u001b[1m 13.8 \u001b[m\u001b[msy,\u001b[m\u001b[m\u001b[1m  1.0 \u001b[m\u001b[mni,\u001b[m\u001b[m\u001b[1m 67.4 \u001b[m\u001b[mid,\u001b[m\u001b[m\u001b[1m  0.3 \u001b[m\u001b[mwa,\u001b[m\u001b[m\u001b[1m  0.0 \u001b[m\u001b[mhi,\u001b[m\u001b[m\u001b[1m  0.0 \u001b[m\u001b[msi,\u001b[m\u001b[m\u001b[1m  0.0 \u001b[m\u001b[mst\u001b[m\u001b[m\u001b[m\u001b[m\u001b[K\n",
      "KiB Mem :\u001b[m\u001b[m\u001b[1m 32899856 \u001b[m\u001b[mtotal,\u001b[m\u001b[m\u001b[1m  2467672 \u001b[m\u001b[mfree,\u001b[m\u001b[m\u001b[1m 19063336 \u001b[m\u001b[mused,\u001b[m\u001b[m\u001b[1m 11368848 \u001b[m\u001b[mbuff/cache\u001b[m\u001b[m\u001b[m\u001b[m\u001b[K\n",
      "KiB Swap:\u001b[m\u001b[m\u001b[1m 15624188 \u001b[m\u001b[mtotal,\u001b[m\u001b[m\u001b[1m 13716112 \u001b[m\u001b[mfree,\u001b[m\u001b[m\u001b[1m  1908076 \u001b[m\u001b[mused.\u001b[m\u001b[m\u001b[1m 13305120 \u001b[m\u001b[mavail Mem \u001b[m\u001b[m\u001b[m\u001b[m\u001b[K\n",
      "\u001b[K\n",
      "\u001b[7m  PID USER      PR  NI    VIRT    RES    SHR S %CPU %MEM     TIME+ COMMAND      \u001b[m\u001b[m\u001b[K\n",
      "\u001b[m 3494 root      20   0 41.769g 5.759g 847620 S  6.2 18.4   1:16.75 python       \u001b[m\u001b[m\u001b[K\n",
      "\u001b[m\u001b[1m 3827 root      20   0   38504   3372   2952 R  6.2  0.0   0:00.95 top          \u001b[m\u001b[m\u001b[K\n",
      "\u001b[m    1 root      20   0   20124   3404   3136 S  0.0  0.0   0:00.06 bash         \u001b[m\u001b[m\u001b[K\n",
      "\u001b[m    6 root      20   0   20124   3556   3244 S  0.0  0.0   0:00.00 bash         \u001b[m\u001b[m\u001b[K\n",
      "\u001b[m   27 root      20   0  364836  76504  17452 S  0.0  0.2   0:13.87 jupyter-not+ \u001b[m\u001b[m\u001b[K\n",
      "\u001b[m   73 root      20   0  364836  76504  17452 S  0.0  0.2   0:00.00 jupyter-not+ \u001b[m\u001b[m\u001b[K\n",
      "\u001b[m   74 root      20   0  364836  76504  17452 S  0.0  0.2   0:00.27 jupyter-not+ \u001b[m\u001b[m\u001b[K\n",
      "\u001b[m   28 root      20   0   72300   3140   2392 S  0.0  0.0   0:00.00 sshd         \u001b[m\u001b[m\u001b[K\n",
      "\u001b[m   33 root      20   0   48064   6716   5340 S  0.0  0.0   0:00.96 ssh          \u001b[m\u001b[m\u001b[K\n",
      "\u001b[m  439 root      20   0   20392   3860   3328 S  0.0  0.0   0:01.03 bash         \u001b[m\u001b[m\u001b[K\n",
      "\u001b[m  464 root      20   0  638716  49964  12888 S  0.0  0.2   0:02.39 python       \u001b[m\u001b[m\u001b[K\n",
      "\u001b[m  471 root      20   0  638716  49964  12888 S  0.0  0.2   0:00.00 python       \u001b[m\u001b[m\u001b[K\n",
      "\u001b[m  472 root      20   0  638716  49964  12888 S  0.0  0.2   0:00.05 python       \u001b[m\u001b[m\u001b[K\n",
      "\u001b[m  473 root      20   0  638716  49964  12888 S  0.0  0.2   0:00.17 python       \u001b[m\u001b[m\u001b[K\n",
      "\u001b[m  474 root      20   0  638716  49964  12888 S  0.0  0.2   0:00.00 python       \u001b[m\u001b[m\u001b[K\n",
      "\u001b[m  475 root      20   0  638716  49964  12888 S  0.0  0.2   0:00.00 python       \u001b[m\u001b[m\u001b[K\n",
      "\u001b[m  476 root      20   0  638716  49964  12888 S  0.0  0.2   0:00.00 python       \u001b[m\u001b[m\u001b[K\u001b[?1l\u001b>\u001b[25;1H\n",
      "\u001b[K"
     ]
    }
   ],
   "source": [
    "!top -H -n 1"
   ]
  },
  {
   "cell_type": "markdown",
   "metadata": {},
   "source": [
    "And that's it – our benchmark ends here!"
   ]
  }
 ],
 "metadata": {
  "accelerator": "GPU",
  "colab": {
   "collapsed_sections": [],
   "name": "Processing texts with heptabot",
   "provenance": []
  },
  "kernelspec": {
   "display_name": "Python 3",
   "language": "python",
   "name": "python3"
  },
  "language_info": {
   "codemirror_mode": {
    "name": "ipython",
    "version": 3
   },
   "file_extension": ".py",
   "mimetype": "text/x-python",
   "name": "python",
   "nbconvert_exporter": "python",
   "pygments_lexer": "ipython3",
   "version": "3.7.6"
  }
 },
 "nbformat": 4,
 "nbformat_minor": 1
}
